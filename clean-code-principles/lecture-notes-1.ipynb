{
 "cells": [
  {
   "cell_type": "markdown",
   "metadata": {
    "collapsed": true,
    "pycharm": {
     "name": "#%% md\n"
    }
   },
   "source": [
    "# Clean Code Principles\n",
    "\n",
    "In this course there are three lessons:\n",
    "* Coding best practices:\n",
    "    * Writing cleaning and modular code\n",
    "    * Refactoring code\n",
    "    * Optimizing code foe efficiency\n",
    "    * Writing documentation\n",
    "    * Following PEP8 guidelines and linting\n",
    "* Version control skils\n",
    "    * Review of the `add`, `commit`, and `push`\n",
    "    * Branching\n",
    "    * Common version control workflows\n",
    "    * Code reviews\n",
    "* Prepare your code for production\n",
    "    * Testing\n",
    "    * Logging\n",
    "    * Model drift\n",
    "    * Automated vs. non-automated retraining\n",
    "\n",
    "\n",
    "#### When to use clean codes principles?\n",
    "\n",
    "* Production settings\n",
    "* Sharing with other\n",
    "* When your code will be re-used\n",
    "\n",
    "#### Principles of clean code\n",
    "* Maintainability\n",
    "* Dependability\n",
    "* Efficiency\n",
    "* Usability\n",
    "\n",
    "#### Coding best practices\n",
    "* Production code: Software running on production servers to handle live users and data of\n",
    "the intended audience. Note that this is different from production-quality code, which\n",
    "describes code that meets expectations for production in reliability, efficiency, and\n",
    "other aspects. Ideally, all code in production meets these expectations, but this is not\n",
    "always the case.\n",
    "* Clean code: Code that is readable, simple, and concise. Clean production-quality code is\n",
    "crucial for collaboration and maintainability in software development.\n",
    "* Modular code: Code that is logically broken up into functions and modules. Modular\n",
    "production-quality code that makes your code more organized, efficient, and reusable.\n",
    "* Module: A file. Modules allow code to be reused by encapsulating them into files that\n",
    "can be imported into other files.\n",
    "\n",
    "#### Writing Clean Code"
   ]
  },
  {
   "cell_type": "code",
   "execution_count": 1,
   "outputs": [
    {
     "name": "stdout",
     "output_type": "stream",
     "text": [
      "87.4\n",
      "93.44776840374746\n"
     ]
    }
   ],
   "source": [
    "# bad example\n",
    "s = [88, 92, 79, 93, 85] # students test scores\n",
    "print(sum(s)/len(s)) # print mean of test scores\n",
    "\n",
    "s1 = [x ** 0.5 * 10 for x in s] # curse scores with square roos methods and store in new list\n",
    "print(sum(s1)/len(s1)) # print mean of curved test scores"
   ],
   "metadata": {
    "collapsed": false,
    "pycharm": {
     "name": "#%%\n"
    }
   }
  },
  {
   "cell_type": "code",
   "execution_count": 2,
   "outputs": [
    {
     "name": "stdout",
     "output_type": "stream",
     "text": [
      "87.4\n",
      "93.44776840374746\n"
     ]
    }
   ],
   "source": [
    "# better example\n",
    "import math\n",
    "import numpy as np\n",
    "\n",
    "test_scores = [88, 92, 79, 93, 85]\n",
    "print(np.mean(test_scores))\n",
    "\n",
    "curved_test_scores = [math.sqrt(score) * 10 for score in test_scores]\n",
    "print(np.mean(curved_test_scores))"
   ],
   "metadata": {
    "collapsed": false,
    "pycharm": {
     "name": "#%%\n"
    }
   }
  },
  {
   "cell_type": "markdown",
   "source": [
    "Tip: Use meaningful names\n",
    "* Be descriptive and imply type: For booleans, you can prefix with `is_` or `has_`\n",
    "to make it clear it is a condition. You can also use parts of speech to imply types,\n",
    "like using verbs for functions and nouns for variables.\n",
    "* Be consistent but clearly differentiate:  `age_list` and `age` is easier to\n",
    "differentiate than `ages` and `age`.\n",
    "* Avoid abbreviations and especially single letters (Exception: counters and common math\n",
    "variables)\n",
    "* Long names != descriptive names: You should be descriptive, but only with relevant\n",
    "information. For example, good function names describe what they do well without\n",
    " including details about implementation or highly specific uses."
   ],
   "metadata": {
    "collapsed": false,
    "pycharm": {
     "name": "#%% md\n"
    }
   }
  },
  {
   "cell_type": "code",
   "execution_count": 3,
   "outputs": [],
   "source": [
    "age_list = [47, 12, 28, 52, 35]\n",
    "for i, age in enumerate(age_list):\n",
    "    if age < 18:\n",
    "        is_minor = True\n",
    "        age_list[i] = 'minor'"
   ],
   "metadata": {
    "collapsed": false,
    "pycharm": {
     "name": "#%%\n"
    }
   }
  },
  {
   "cell_type": "code",
   "execution_count": 4,
   "outputs": [
    {
     "data": {
      "text/plain": "[47, 'minor', 28, 52, 35]"
     },
     "execution_count": 4,
     "metadata": {},
     "output_type": "execute_result"
    }
   ],
   "source": [
    "age_list"
   ],
   "metadata": {
    "collapsed": false,
    "pycharm": {
     "name": "#%%\n"
    }
   }
  },
  {
   "cell_type": "markdown",
   "source": [
    "Tip: Use whitespace properly\n",
    "* Organize your code with consistent indentation: the standard is to use four\n",
    "spaces for each indent. You can make this a default in your text editor.\n",
    "* Separate sections with blank lines to keep your code well organized\n",
    "and readable.\n",
    "* Try to limit your lines to around 79 characters, which is the guideline\n",
    "given in the PEP 8 style guide. In many good text editors, there is a setting\n",
    "to display a subtle line that indicates where the 79 character limit is."
   ],
   "metadata": {
    "collapsed": false,
    "pycharm": {
     "name": "#%% md\n"
    }
   }
  },
  {
   "cell_type": "code",
   "execution_count": null,
   "outputs": [],
   "source": [
    "# Correct:\n",
    "\n",
    "# Aligned with opening delimiter.\n",
    "foo = long_function_name(var_one, var_two,\n",
    "                         var_three, var_four)\n",
    "\n",
    "# Add 4 spaces (an extra level of indentation) to distinguish arguments from the rest.\n",
    "def long_function_name(\n",
    "        var_one, var_two, var_three,\n",
    "        var_four):\n",
    "    print(var_one)\n",
    "\n",
    "# Hanging indents should add a level.\n",
    "foo = long_function_name(\n",
    "    var_one, var_two,\n",
    "    var_three, var_four)"
   ],
   "metadata": {
    "collapsed": false,
    "pycharm": {
     "name": "#%%\n"
    }
   }
  },
  {
   "cell_type": "code",
   "execution_count": null,
   "outputs": [],
   "source": [
    "# Wrong:\n",
    "\n",
    "# Arguments on first line forbidden when not using vertical alignment.\n",
    "foo = long_function_name(var_one, var_two,\n",
    "    var_three, var_four)\n",
    "\n",
    "# Further indentation required as indentation is not distinguishable.\n",
    "def long_function_name(\n",
    "    var_one, var_two, var_three,\n",
    "    var_four):\n",
    "    print(var_one)"
   ],
   "metadata": {
    "collapsed": false,
    "pycharm": {
     "name": "#%%\n"
    }
   }
  },
  {
   "cell_type": "markdown",
   "source": [
    "#### Writing Modular Code\n",
    "\n",
    "* Don't repeat yourself\n",
    "* Abstract out logic to improve readability\n",
    "* Minimize the number of entities (functions, classes, modules, etc).\n",
    "There are trade-offs to having function calls instead of inline logic.\n",
    "If you have broken up your code into an unnecessary amount of functions and modules,\n",
    "you'll have to jump around everywhere if you want to view the implementation details\n",
    "for something that may be too small to be worth it.\n",
    "* Functions should do one thing\n",
    "* Arbitrary variable names can be more effective in certain functions\n",
    "* Try to use fewer than three arguments per function"
   ],
   "metadata": {
    "collapsed": false,
    "pycharm": {
     "name": "#%% md\n"
    }
   }
  },
  {
   "cell_type": "code",
   "execution_count": 1,
   "outputs": [
    {
     "name": "stdout",
     "output_type": "stream",
     "text": [
      "87.4\n",
      "92.4\n",
      "97.4\n",
      "93.44776840374746\n"
     ]
    }
   ],
   "source": [
    "# bad\n",
    "\n",
    "s = [88, 92, 79, 93, 85] # students test scores\n",
    "print(sum(s)/len(s)) # print mean of test scores\n",
    "\n",
    "s1 = []\n",
    "for x in s:\n",
    "    s1.append(x+5)\n",
    "print(sum(s1) / len(s1))\n",
    "\n",
    "s2 = []\n",
    "for x in s:\n",
    "    s2.append(x+10)\n",
    "print(sum(s2)/len(s2))\n",
    "\n",
    "s3 = []\n",
    "for x in s:\n",
    "    s3.append(x ** 0.5 * 10)\n",
    "print(sum(s3)/len(s3))"
   ],
   "metadata": {
    "collapsed": false,
    "pycharm": {
     "name": "#%%\n"
    }
   }
  },
  {
   "cell_type": "code",
   "execution_count": 4,
   "outputs": [
    {
     "name": "stdout",
     "output_type": "stream",
     "text": [
      "92.4\n",
      "97.4\n",
      "93.44776840374746\n"
     ]
    }
   ],
   "source": [
    "# still bad example\n",
    "import math\n",
    "import numpy as np\n",
    "\n",
    "def flat_curve_and_print_mean(arr, n):\n",
    "    curved_arr = [i + n for i in arr]\n",
    "    print(np.mean(curved_arr))\n",
    "    return curved_arr\n",
    "\n",
    "def square_root_curve_and_print_mean(arr):\n",
    "    curved_arr = [math.sqrt(i) * 10 for i in arr]\n",
    "    print(np.mean(curved_arr))\n",
    "    return curved_arr\n",
    "\n",
    "test_scores = [88, 92, 79, 93, 85]\n",
    "curved_5 = flat_curve_and_print_mean(test_scores, 5)\n",
    "curved_10 = flat_curve_and_print_mean(test_scores, 10)\n",
    "curved_sqrt = square_root_curve_and_print_mean(test_scores)"
   ],
   "metadata": {
    "collapsed": false,
    "pycharm": {
     "name": "#%%\n"
    }
   }
  },
  {
   "cell_type": "code",
   "execution_count": 2,
   "outputs": [
    {
     "name": "stdout",
     "output_type": "stream",
     "text": [
      "87.4\n",
      "92.4\n",
      "97.4\n",
      "93.44776840374746\n"
     ]
    }
   ],
   "source": [
    "# better example\n",
    "import math\n",
    "import numpy as np\n",
    "\n",
    "def flat_curve(arr, n):\n",
    "    return [i + n for i in arr]\n",
    "\n",
    "def square_root_curve(arr):\n",
    "    return [math.sqrt(i) * 10 for i in arr]\n",
    "\n",
    "test_scores = [88, 92, 79, 93, 85]\n",
    "curved_5 = flat_curve(test_scores, 5)\n",
    "curved_10 = flat_curve(test_scores, 10)\n",
    "curved_sqrt = square_root_curve(test_scores)\n",
    "\n",
    "for score_list in test_scores, curved_5, curved_10, curved_sqrt:\n",
    "    print(np.mean(score_list))"
   ],
   "metadata": {
    "collapsed": false,
    "pycharm": {
     "name": "#%%\n"
    }
   }
  },
  {
   "cell_type": "markdown",
   "source": [
    "#### Refactoring Code\n",
    "\n",
    "Restructuring your code to improve its internal structure without changing its\n",
    "external functionality. This gives you a chance to clean and modularize your\n",
    "program after you've got it working.\n",
    "\n",
    "#### Documentation\n",
    "\n",
    "Typs of documentation:\n",
    "* Line level\n",
    "* Function or module level\n",
    "* Project level (README file)"
   ],
   "metadata": {
    "collapsed": false,
    "pycharm": {
     "name": "#%% md\n"
    }
   }
  },
  {
   "cell_type": "code",
   "execution_count": 5,
   "outputs": [
    {
     "name": "stdout",
     "output_type": "stream",
     "text": [
      "{'2989078', '8604850', '1473766', '8897482', '1219701', '1962694', '7286871', '3290103', '6964516', '8873515', '2038925', '2920394', '4245126', '2439487', '2706358', '3036263', '9624309', '9443002', '1713507', '4976621', '7804101', '5353921', '1901264', '9180837', '2442952', '5951873', '6637024', '6599509', '8558628', '3517640', '7663370', '7356628', '8919160', '6975356', '7804836', '8621688', '2009541', '3172199', '8502866', '6495493', '4993512', '6889040', '6163266', '7401186', '7170269', '6977874', '7689591', '1900178', '7955543', '2644909', '5890905', '1694425', '7144292', '5205726', '3066256', '6522620', '7668560', '4959393', '2986045', '3349989', '6005218', '7531095', '5764540', '7148530', '8879982', '6445882', '7406586', '9255617', '8819824', '7286175', '2239694', '2645238', '5766722', '8255889', '3783712', '7308127', '5406308', '7852176', '2462622', '4580997', '4137576', '4717544', '3264002', '4623179', '9497646', '7231742', '1258335', '9193737', '1264806', '1715546', '4281481', '6595167', '8196889', '4069963', '9348635', '7201791'}\n"
     ]
    }
   ],
   "source": [
    "%run common_blocks.py"
   ],
   "metadata": {
    "collapsed": false,
    "pycharm": {
     "name": "#%%\n"
    }
   }
  },
  {
   "cell_type": "markdown",
   "source": [
    "Run in console `pylint common_blocks.py`\n",
    "\n",
    "************* Module common_blocks\n",
    "\n",
    "common_blocks.py:20:0: C0304: Final newline missing (missing-final-newline)\n",
    "common_blocks.py:1:0: C0114: Missing module docstring (missing-module-docstring)\n",
    "common_blocks.py:6:0: C0116: Missing function or method docstring (missing-function-docstring)\n",
    "common_blocks.py:13:4: W0621: Redefining name 'recent_coding_books' from outer scope (line 18) (redefined-outer-name)\n",
    "common_blocks.py:7:35: C0103: Variable name \"f\" doesn't conform to snake_case naming style (invalid-name)\n",
    "common_blocks.py:10:35: C0103: Variable name \"f\" doesn't conform to snake_case naming style (invalid-name)\n",
    "common_blocks.py:1:0: W0611: Unused import time (unused-import)\n",
    "common_blocks.py:2:0: W0611: Unused pandas imported as pd (unused-import)\n",
    "common_blocks.py:3:0: W0611: Unused numpy imported as np (unused-import)\n",
    "\n",
    "\n",
    "Your code has been rated at 3.08/10"
   ],
   "metadata": {
    "collapsed": false,
    "pycharm": {
     "name": "#%% md\n"
    }
   }
  },
  {
   "cell_type": "markdown",
   "source": [
    "***\n",
    "Run in console `pylint common_blocks_refactored.py`\n",
    "\n",
    "************* Module common_blocks_refactored\n",
    "common_blocks_refactored.py:32:0: C0304: Final newline missing (missing-final-newline)\n",
    "\n",
    "\n",
    "Your code has been rated at 9.00/10"
   ],
   "metadata": {
    "collapsed": false,
    "pycharm": {
     "name": "#%% md\n"
    }
   }
  },
  {
   "cell_type": "markdown",
   "source": [
    "***\n",
    "In this lesson, you learned 5 key factors to coding best practices:\n",
    "\n",
    "Writing clean and modular code\n",
    "Refactoring code\n",
    "Optimizing code to be more efficient\n",
    "Writing documentation\n",
    "Following PEP8 & Linting\n",
    "\n",
    "#### Key Terms\n",
    "* Refactoring - the process of writing code that improves its maintainability, speed,\n",
    "and readability without changing its functionality.\n",
    "* Modular - the logical partition of software into smaller programs for the\n",
    "purpose of improved maintainability, speed, and readability.\n",
    "* Efficiency - using the resources optimally where resources could be memory, CPU,\n",
    "time, files, connections, databases, etc.\n",
    "* Optimization - a way of writing code to be more efficient.\n",
    "* Documentation - written material or illustration that explains computer software.\n",
    "* Linting - the automated checking of your source code for programmatic, syntactic,\n",
    " or stylistic errors.\n",
    "* PEP8 - a document providing guidelines and best practices for writing Python code."
   ],
   "metadata": {
    "collapsed": false,
    "pycharm": {
     "name": "#%% md\n"
    }
   }
  }
 ],
 "metadata": {
  "kernelspec": {
   "display_name": "Python 3",
   "language": "python",
   "name": "python3"
  },
  "language_info": {
   "codemirror_mode": {
    "name": "ipython",
    "version": 2
   },
   "file_extension": ".py",
   "mimetype": "text/x-python",
   "name": "python",
   "nbconvert_exporter": "python",
   "pygments_lexer": "ipython2",
   "version": "2.7.6"
  }
 },
 "nbformat": 4,
 "nbformat_minor": 0
}