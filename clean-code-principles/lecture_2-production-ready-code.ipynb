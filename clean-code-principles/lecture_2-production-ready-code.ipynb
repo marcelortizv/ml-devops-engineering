{
 "cells": [
  {
   "cell_type": "markdown",
   "metadata": {
    "collapsed": true,
    "pycharm": {
     "name": "#%% md\n"
    }
   },
   "source": [
    "This lesson focus on:\n",
    "\n",
    "* Handling erros\n",
    "* Writing test and logs\n",
    "* Model drift\n",
    "* Automated vs. non-automated retraining\n",
    "\n",
    "#### Catching Errors"
   ]
  },
  {
   "cell_type": "code",
   "execution_count": 1,
   "outputs": [],
   "source": [
    "import pandas as pd\n",
    "\n",
    "def read_data(file_path):\n",
    "    try:\n",
    "        df = pd.read_csv(file_path)\n",
    "        return df\n",
    "    except FileNotFoundError:\n",
    "        # do something else\n",
    "        print('We were not able to find that file')\n",
    "        # log there is an error\n",
    "        # let user know something went wrong\n"
   ],
   "metadata": {
    "collapsed": false,
    "pycharm": {
     "name": "#%%\n"
    }
   }
  },
  {
   "cell_type": "code",
   "execution_count": 2,
   "outputs": [
    {
     "name": "stdout",
     "output_type": "stream",
     "text": [
      "We were not able to find that file\n"
     ]
    }
   ],
   "source": [
    "df = read_data('somet_path')"
   ],
   "metadata": {
    "collapsed": false,
    "pycharm": {
     "name": "#%%\n"
    }
   }
  },
  {
   "cell_type": "code",
   "execution_count": 3,
   "outputs": [],
   "source": [
    "# Exercise: Catching Errors\n",
    "def divide_vals(numerator, denominator):\n",
    "    '''\n",
    "    Args:\n",
    "        numerator: (float) numerator of fraction\n",
    "        denominator: (float) denominator of fraction\n",
    "\n",
    "    Returns:\n",
    "        fraction_val: (float) numerator/denominator\n",
    "    '''\n",
    "    try:\n",
    "        fraction_val = numerator/denominator\n",
    "        return fraction_val\n",
    "    except ZeroDivisionError:\n",
    "        return \"denominator cannot be zero\"\n",
    "\n",
    "\n",
    "def num_words(text):\n",
    "    '''\n",
    "    Args:\n",
    "        text: (string) string of words\n",
    "\n",
    "    Returns:\n",
    "        num_words: (int) number of words in the string\n",
    "    '''\n",
    "    try:\n",
    "        num_words = len(text.split())\n",
    "        return num_words\n",
    "    except AttributeError:\n",
    "        return \"text argument must be a string\""
   ],
   "metadata": {
    "collapsed": false,
    "pycharm": {
     "name": "#%%\n"
    }
   }
  },
  {
   "cell_type": "code",
   "execution_count": 7,
   "outputs": [
    {
     "name": "stdout",
     "output_type": "stream",
     "text": [
      "2.0\n",
      "denominator cannot be zero\n",
      "4\n",
      "text argument must be a string\n"
     ]
    }
   ],
   "source": [
    "print(divide_vals(10,5))\n",
    "print(divide_vals(10,0))\n",
    "print(num_words(\"this is a string\"))\n",
    "print(num_words(10))"
   ],
   "metadata": {
    "collapsed": false,
    "pycharm": {
     "name": "#%%\n"
    }
   }
  },
  {
   "cell_type": "markdown",
   "source": [
    "#### Testing\n",
    "Testing your code is essential before deployment. It helps you catch errors and\n",
    "faulty conclusions before they make any major impact. Today, employers are\n",
    "looking for data scientists with the skills to properly prepare their code for an\n",
    "industry setting, which includes testing their code.\n",
    "\n",
    "* Problems that could occur in data science aren’t always easily detectable; you\n",
    " might have values being encoded incorrectly, features being used inappropriately,\n",
    " or unexpected data breaking assumptions.\n",
    "\n",
    "* To catch these errors, you have to check for the quality and accuracy of your analysis\n",
    "in addition to the quality of your code. Proper testing is necessary to avoid unexpected\n",
    "surprises and have confidence in your results.\n",
    "\n",
    "* Test-driven development (TDD): A development process in which you write tests for tasks\n",
    "before you even write the code to implement those tasks.\n",
    "\n",
    "* Unit test: A type of test that covers a “unit” of code—usually a single\n",
    "function—independently from the rest of the program.\n",
    "\n",
    "\n",
    "#### Unit Testing: Advantages and Disadvantages\n",
    "The advantage of unit tests is that they are isolated from the rest of your program,\n",
    "and thus, no dependencies are involved. They don't require access to databases, APIs, or\n",
    "other external sources of information. However, passing unit tests isn’t always enough\n",
    "to prove that our program is working successfully. To show that all the parts of our\n",
    "program work with each other properly, communicating and transferring data between them\n",
    "correctly, we use integration tests. In this lesson, we'll focus on unit tests; however,\n",
    "when you start building larger programs, you will want to use integration tests as well.\n",
    "\n",
    "Using pytest:\n",
    "You have to write a script that contains all your test which its name starts with\n",
    "'test_...' to be recognized by pytest. Example `test_nearest.py`. All the tests functions\n",
    "inside this script must start withe the word 'test_...' as well.\n",
    "\n",
    "Summary:\n",
    "\n",
    "* Create a test file starting with `test_`.\n",
    "* Define unit test functions that start with `test_` inside the test file.\n",
    "* Enter `pytest` into your terminal in the directory of your test file, and\n",
    "it detects these tests for you.\n",
    "\n",
    "#### Logging\n",
    "Logging is valuable for understanding the events that occur while running your program.\n",
    "For example, if you run your model overnight, and the results the following morning\n",
    "are not what you expect, log messages can help you understand more about the context\n",
    "in those results occurred.\n",
    "\n",
    "Tips for Log Messages:\n",
    "\n",
    "* Be professional and clear\n",
    "```\n",
    "Bad: Hmmm... this isn't working???\n",
    "Bad: idk.... :(\n",
    "Good: Couldn't parse file.\n",
    "```\n",
    "* Be concise and user normal capitalization\n",
    "```\n",
    "Bad: Start Product Recommendation Process\n",
    "Bad: We have completed the steps necessary and will now proceed with the\n",
    "recommendation process for the records in our product database.\n",
    "Good: Generating product recommendations.\n",
    "```\n",
    "* Choose the appropriate level for logging\n",
    "```\n",
    "Debug: Use this level for anything that happens in the program.\n",
    "Error: Use this level to record any error that occurs.\n",
    "Info: Use this level to record all actions that are user driven or\n",
    "system specific, such as regularly scheduled operations.\n",
    "```\n",
    "* Provide any useful information\n",
    "```\n",
    "Bad: Failed to read location data\n",
    "Good: Failed to read location data: store_id 8324971\n",
    "```\n",
    "\n",
    "#### Model drift\n",
    "\n",
    "When the features or parameters of a model no longer produce the results you\n",
    "want on production data (model degradation occurs).\n",
    "\n",
    "In these cases, you may need to retrain your model and launch a new version\n",
    "of it to replace your existing model. This might mean:\n",
    "\n",
    "* Finding new features\n",
    "* Tuning your hyper-parameters\n",
    "* Finding a new model altogether\n",
    "\n",
    "#### Automated vs. Non-Automated retraining\n",
    "\n",
    "Automated Retraining\n",
    "* New models to replace existing on a timeline (week, month, or year)\n",
    "* Fraud model is a good example. Fraudsters constantly updating tactics,\n",
    "so you will need to update your models frequently to continue to catch them.\n",
    "* Useful for simple updates\n",
    "\n",
    "Non-Automated\n",
    "* Stable results over time, so this model is unlikely to be updated vere often.\n",
    "* Used for introducing new features or model architectures\n",
    "\n",
    "\n",
    "### Key Terms\n",
    "* Try-except blocks - are used to check code for errors.\n",
    "Try will execute if no errors occur.\n",
    "* Testing - checking that the outcome of your software matches the expected requirements\n",
    "* Logging - tracking your production code for informational, warning, and error\n",
    " catching purposes\n",
    "* Model drift - the change in inputs and outputs of a machine learning model\n",
    "over time\n",
    "* Automated retraining - the automated process of updating production machine\n",
    "learning models\n",
    "* Non-automated retraining - a human-centered process of updating production\n",
    "machine learning models"
   ],
   "metadata": {
    "collapsed": false,
    "pycharm": {
     "name": "#%% md\n"
    }
   }
  }
 ],
 "metadata": {
  "kernelspec": {
   "display_name": "Python 3",
   "language": "python",
   "name": "python3"
  },
  "language_info": {
   "codemirror_mode": {
    "name": "ipython",
    "version": 2
   },
   "file_extension": ".py",
   "mimetype": "text/x-python",
   "name": "python",
   "nbconvert_exporter": "python",
   "pygments_lexer": "ipython2",
   "version": "2.7.6"
  }
 },
 "nbformat": 4,
 "nbformat_minor": 0
}